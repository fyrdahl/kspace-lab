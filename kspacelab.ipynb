{
 "cells": [
  {
   "cell_type": "markdown",
   "metadata": {},
   "source": [
    "# k-Space lab in Python\n"
   ]
  },
  {
   "cell_type": "code",
   "execution_count": 1,
   "metadata": {},
   "outputs": [],
   "source": [
    "import numpy as np\n",
    "import matplotlib.pyplot as plt\n",
    "import h5py\n",
    "\n",
    "with h5py.File('data.h5', 'r') as F:\n",
    "    kspace_res512_FOV24 = np.array(F['kspace_res512_FOV24'])\n",
    "    kspace_res512_FOV48 = np.array(F['kspace_res512_FOV24'])"
   ]
  },
  {
   "cell_type": "markdown",
   "metadata": {},
   "source": [
    "## Task 1\n",
    "\n",
    "Use ``kspace_res512_FOV24``\n",
    "\n",
    "1. Show the magnitude, phase, real, and imaginary part of the k-space. To better visualize k-space, you should log the matrix using the log command."
   ]
  },
  {
   "cell_type": "code",
   "execution_count": null,
   "metadata": {},
   "outputs": [],
   "source": [
    "plt.subplot(1, 2, 1)"
    "plt.imshow(np.abs(np.log(kspace_res512_FOV24)), cmap='gray')"
    "plt.title('Magnitude')"
    ""
    "plt.subplot(1, 2, 2)"
    "plt.imshow(np.angle(kspace_res512_FOV24), cmap='gray')"
    "plt.title('Phase')"
   ]
  },
  {
   "cell_type": "markdown",
   "metadata": {},
   "source": [
    "2.  Do an inverse FT of the k-space data in the frequency encoding direction (along columns).\n",
    "    * Display the magnitude and phase of the result.\n",
    "    * Describe what's happened, which domain is the data in – spatial or frequency?\n",
    "    * What are the unit on the x and y axis?"
   ]
  },
  {
   "cell_type": "code",
   "execution_count": null,
   "metadata": {},
   "outputs": [],
   "source": [
    "plt.imshow(np.abs(np.fft.ifft(kspace_res512_FOV24)), cmap='gray')"
   ]
  },
  {
   "cell_type": "markdown",
   "metadata": {},
   "source": [
    "3. Do an inverse FT of the k-space data in both the frequency and phase encoding direction.\n",
    "    * Display the magnitude and phase of the result.\n",
    "    * Which domain is the data in- spatial or frequency?"
   ]
  },
  {
   "cell_type": "code",
   "execution_count": null,
   "metadata": {},
   "outputs": [],
   "source": [
    "plt.imshow(np.abs(np.fft.ifftshift(np.fft.ifft2(kspace_res512_FOV24))), cmap='gray')"
   ]
  }
 ],
 "metadata": {
  "kernelspec": {
   "display_name": "Python 3",
   "language": "python",
   "name": "python3"
  },
  "language_info": {
   "codemirror_mode": {
    "name": "ipython",
    "version": 3
   },
   "file_extension": ".py",
   "mimetype": "text/x-python",
   "name": "python",
   "nbconvert_exporter": "python",
   "pygments_lexer": "ipython3",
   "version": "3.7.3"
  }
 },
 "nbformat": 4,
 "nbformat_minor": 2
}
